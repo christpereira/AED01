{
 "cells": [
  {
   "cell_type": "markdown",
   "id": "92ff10fe-fd28-4d69-875e-2583064dd8df",
   "metadata": {},
   "source": [
    "# Exercicio 0"
   ]
  },
  {
   "cell_type": "code",
   "execution_count": 43,
   "id": "aff52074-2fc0-4e46-ab02-8153ae40ba54",
   "metadata": {},
   "outputs": [
    {
     "name": "stdin",
     "output_type": "stream",
     "text": [
      "Insira um número:  23\n"
     ]
    },
    {
     "name": "stdout",
     "output_type": "stream",
     "text": [
      "O número escolhido é positivo e impar\n"
     ]
    }
   ],
   "source": [
    "numero = float(input(\"Insira um número: \"))\n",
    "\n",
    "if numero >= 0:\n",
    "    positivo = \"O número escolhido é positivo\"\n",
    "    if numero % 2 == 0:\n",
    "        par = \"e par\"\n",
    "        print(positivo, par)\n",
    "    if numero % 2 != 0:\n",
    "        impar = \"e impar\"\n",
    "        print(positivo, impar)\n",
    "else:\n",
    "    negativo = \"O número escolhido é negativo\"\n",
    "    if numero % 2 == 0:\n",
    "        par = \"e par\"\n",
    "        print(negativo, par)\n",
    "    if numero % 2 != 0:\n",
    "        impar = \"e impar\"\n",
    "        print(negativo, impar)"
   ]
  },
  {
   "cell_type": "markdown",
   "id": "1710f28d-3767-4041-b7eb-18b2bf09642a",
   "metadata": {},
   "source": [
    "# Exercicio 1"
   ]
  },
  {
   "cell_type": "code",
   "execution_count": 49,
   "id": "d61749b9-fdb7-45cc-bdba-2a1ad672f8cf",
   "metadata": {},
   "outputs": [
    {
     "name": "stdin",
     "output_type": "stream",
     "text": [
      "Insira o primeiro número 6\n",
      "Insira o segundo número 2\n"
     ]
    },
    {
     "name": "stdout",
     "output_type": "stream",
     "text": [
      "O maior número dos escolhidos foi: 6.0\n"
     ]
    }
   ],
   "source": [
    "numero = float(input(\"Insira o primeiro número:\"))\n",
    "numero2 = float(input(\"Insira o segundo número:\"))\n",
    "\n",
    "if numero > numero2:\n",
    "    print(\"O maior número dos escolhidos foi:\", numero)\n",
    "else:\n",
    "    print(\"O maior número dos escolhidos foi:\", numero2)"
   ]
  },
  {
   "cell_type": "markdown",
   "id": "39321cd2-36ae-415f-8f5d-96e050b5b726",
   "metadata": {},
   "source": [
    "# Exercicio 2"
   ]
  },
  {
   "cell_type": "code",
   "execution_count": 60,
   "id": "2151fc99-d2a8-4de1-81e1-8a7b099ef649",
   "metadata": {},
   "outputs": [
    {
     "name": "stdin",
     "output_type": "stream",
     "text": [
      "Insira um número -1\n"
     ]
    },
    {
     "name": "stdout",
     "output_type": "stream",
     "text": [
      "O número escolhido é negativo\n"
     ]
    }
   ],
   "source": [
    "numero = float(input(\"Insira um número:\"))\n",
    "\n",
    "if numero >= 0:\n",
    "    print(\"O número escolhido é positivo\")\n",
    "else:\n",
    "    print(\"O número escolhido é negativo\")"
   ]
  },
  {
   "cell_type": "markdown",
   "id": "2566da3c-5c3d-4bad-b0e3-c3aa8a2c0215",
   "metadata": {},
   "source": [
    "# Exercicio 3"
   ]
  },
  {
   "cell_type": "code",
   "execution_count": 67,
   "id": "469e95fa-be77-4a33-839c-de695e2c5bf2",
   "metadata": {},
   "outputs": [
    {
     "name": "stdin",
     "output_type": "stream",
     "text": [
      "Digite uma letra: a\n"
     ]
    },
    {
     "name": "stdout",
     "output_type": "stream",
     "text": [
      "A letra escolhida é uma consoante\n",
      "A letra escolhida é uma consoante\n",
      "A letra escolhida é uma consoante\n",
      "A letra escolhida é uma consoante\n",
      "A letra escolhida é uma consoante\n",
      "A letra escolhida é uma consoante\n",
      "A letra escolhida é uma consoante\n",
      "A letra escolhida é uma consoante\n",
      "A letra escolhida é uma consoante\n",
      "A letra escolhida é uma consoante\n"
     ]
    }
   ],
   "source": [
    "letra = input(\"Digite uma letra:\")\n",
    "vogais = (\"a\", \"e\", \"i\", \"o\", \"u\", \"A\", \"E\", \"I\", \"O\", \"U\")\n",
    "\n",
    "for letra in vogais:\n",
    "    if letra == vogais:\n",
    "        print(\"A letra escolhida é uma vogal\")\n",
    "    else:\n",
    "        print(\"A letra escolhida é uma consoante\")"
   ]
  }
 ],
 "metadata": {
  "kernelspec": {
   "display_name": "Python [conda env:base] *",
   "language": "python",
   "name": "conda-base-py"
  },
  "language_info": {
   "codemirror_mode": {
    "name": "ipython",
    "version": 3
   },
   "file_extension": ".py",
   "mimetype": "text/x-python",
   "name": "python",
   "nbconvert_exporter": "python",
   "pygments_lexer": "ipython3",
   "version": "3.12.7"
  }
 },
 "nbformat": 4,
 "nbformat_minor": 5
}
