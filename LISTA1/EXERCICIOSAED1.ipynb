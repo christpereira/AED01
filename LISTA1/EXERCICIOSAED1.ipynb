{
 "cells": [
  {
   "cell_type": "markdown",
   "id": "49a188b9",
   "metadata": {},
   "source": [
    "# EXERCICIO 0"
   ]
  },
  {
   "cell_type": "code",
   "execution_count": null,
   "id": "cc726d2b",
   "metadata": {},
   "outputs": [],
   "source": [
    "numero = float(input(\"Insira um número: \"))\n",
    "\n",
    "if numero >= 0:\n",
    "    positivo = \"O número escolhido é positivo\"\n",
    "    if numero % 2 == 0:\n",
    "        par = \"e par\"\n",
    "        print(positivo, par)\n",
    "    if numero % 2 != 0:\n",
    "        impar = \"e impar\"\n",
    "        print(positivo, impar)\n",
    "else:\n",
    "    negativo = \"O número escolhido é negativo\"\n",
    "    if numero % 2 == 0:\n",
    "        par = \"e par\"\n",
    "        print(negativo, par)\n",
    "    if numero % 2 != 0:\n",
    "        impar = \"e impar\"\n",
    "        print(negativo, impar)"
   ]
  },
  {
   "cell_type": "markdown",
   "id": "ee830302",
   "metadata": {},
   "source": [
    "# EXERCICIO 1"
   ]
  },
  {
   "cell_type": "code",
   "execution_count": null,
   "id": "d7927e01",
   "metadata": {},
   "outputs": [],
   "source": [
    "numero = float(input(\"Insira o primeiro número:\"))\n",
    "numero2 = float(input(\"Insira o segundo número:\"))\n",
    "\n",
    "if numero > numero2:\n",
    "    print(\"O maior número dos escolhidos foi:\", numero)\n",
    "else:\n",
    "    print(\"O maior número dos escolhidos foi:\", numero2)"
   ]
  },
  {
   "cell_type": "markdown",
   "id": "d924e462",
   "metadata": {},
   "source": [
    "# EXERCICIO 2"
   ]
  },
  {
   "cell_type": "code",
   "execution_count": null,
   "id": "318bf3e8",
   "metadata": {},
   "outputs": [],
   "source": [
    "numero = float(input(\"Insira um número:\"))\n",
    "\n",
    "if numero >= 0:\n",
    "    print(\"O número escolhido é positivo\")\n",
    "else:\n",
    "    print(\"O número escolhido é negativo\")"
   ]
  },
  {
   "cell_type": "markdown",
   "id": "62de8b34",
   "metadata": {},
   "source": [
    "# EXERCICIO 3"
   ]
  },
  {
   "cell_type": "code",
   "execution_count": 8,
   "id": "0dff8fc3",
   "metadata": {
    "ExecuteTime": {
     "end_time": "2025-05-12T01:52:04.248358Z",
     "start_time": "2025-05-12T01:52:02.648108Z"
    }
   },
   "outputs": [
    {
     "name": "stdout",
     "output_type": "stream",
     "text": [
      "Digite uma letra: s\n",
      "A letra digitada é uma consoante\n"
     ]
    }
   ],
   "source": [
    "letra = str(input(\"Digite uma letra: \"))\n",
    "\n",
    "if letra in (\"aeiou\"):\n",
    "    print(\"A letra digitada é uma vogal\")\n",
    "else:\n",
    "    print(\"A letra digitada é uma consoante\")"
   ]
  },
  {
   "cell_type": "markdown",
   "id": "325f0edf",
   "metadata": {},
   "source": [
    "# EXERCICIO 4"
   ]
  },
  {
   "cell_type": "code",
   "execution_count": 16,
   "id": "11f76216",
   "metadata": {
    "ExecuteTime": {
     "end_time": "2025-05-12T01:57:37.498113Z",
     "start_time": "2025-05-12T01:57:36.105684Z"
    },
    "scrolled": true
   },
   "outputs": [
    {
     "name": "stdout",
     "output_type": "stream",
     "text": [
      "Digite a nota da P1: 10\n",
      "Digite a nota da P2: 10\n",
      "Aprovado com Distinção\n"
     ]
    }
   ],
   "source": [
    "nota1 = float(input(\"Digite a nota da P1: \"))\n",
    "nota2 = float(input(\"Digite a nota da P2: \"))\n",
    "media = (nota1 + nota2) / 2\n",
    "\n",
    "if media >= 7:\n",
    "    if media < 10:\n",
    "        print(\"Aprovado\")\n",
    "if media < 7:\n",
    "    print(\"Reprovado\")\n",
    "if media == 10:\n",
    "    print(\"Aprovado com Distinção\")"
   ]
  },
  {
   "cell_type": "markdown",
   "id": "bf0a88f4",
   "metadata": {},
   "source": [
    "# EXERCICIO 5"
   ]
  },
  {
   "cell_type": "code",
   "execution_count": 25,
   "id": "25ee16a0",
   "metadata": {
    "ExecuteTime": {
     "end_time": "2025-05-12T02:06:49.340228Z",
     "start_time": "2025-05-12T02:06:47.464917Z"
    }
   },
   "outputs": [
    {
     "name": "stdout",
     "output_type": "stream",
     "text": [
      "Qual o preço do primeiro produto?3\n",
      "Qual o preço do segundo produto?6\n",
      "Qual o preço do terceiro produto?7\n",
      "Você deveria comprar o primeiro produto!\n"
     ]
    }
   ],
   "source": [
    "pdt1 = float(input(\"Qual o preço do primeiro produto?\"))\n",
    "pdt2 = float(input(\"Qual o preço do segundo produto?\"))\n",
    "pdt3 = float(input(\"Qual o preço do terceiro produto?\"))\n",
    "\n",
    "if pdt1 < pdt2 and pdt1 < pdt3:\n",
    "    print(\"Você deveria comprar o primeiro produto!\")\n",
    "if pdt2 < pdt1 and pdt2 < pdt3:\n",
    "    print(\"Você deveria comprar o segundo produto!\")\n",
    "if pdt1 == pdt2 and pdt2 == pdt3:\n",
    "    print(\"Todos são uma boa opção!\")\n",
    "if pdt3 < pdt1 and pdt3 < pdt2:\n",
    "    print(\"Você deveria comprar o terceiro produto!\")"
   ]
  },
  {
   "cell_type": "markdown",
   "id": "7fb82d0d",
   "metadata": {},
   "source": [
    "# EXERCICIO 6"
   ]
  },
  {
   "cell_type": "code",
   "execution_count": 1,
   "id": "a6f83766",
   "metadata": {
    "ExecuteTime": {
     "end_time": "2025-05-17T16:02:35.538180Z",
     "start_time": "2025-05-17T16:01:57.592169Z"
    },
    "scrolled": true
   },
   "outputs": [
    {
     "name": "stdout",
     "output_type": "stream",
     "text": [
      "Digite o primeiro número:24\n",
      "Digite o segundo número:75\n",
      "Digite o terceiro número:38\n",
      "A ordem decrescente dos números escolhidos é:  75 38 24\n"
     ]
    }
   ],
   "source": [
    "num1 = int(input(\"Digite o primeiro número:\"))\n",
    "num2 = int(input(\"Digite o segundo número:\"))\n",
    "num3 = int(input('Digite o terceiro número:'))\n",
    "\n",
    "if num1 > num2 and num1 > num3:\n",
    "    if num2 > num3:\n",
    "        print(\"A ordem decrescente dos números escolhidos é: \", num1, num2, num3)\n",
    "    if num3 > num2:\n",
    "        print(\"A ordem decrescente dos números escolhidos é: \", num1, num3, num2)\n",
    "if num2 > num1 and num2 > num3:\n",
    "    if num1 > num3:\n",
    "        print(\"A ordem decrescente dos números escolhidos é: \", num2, num1, num3)\n",
    "    if num3 > num1:\n",
    "        print(\"A ordem decrescente dos números escolhidos é: \", num2, num3, num1)\n",
    "if num3 > num1 and num3 > num2:\n",
    "    if num1 > num2:\n",
    "        print(\"A ordem decrescente dos números escolhidos é: \", num3, num1, num2)\n",
    "    if num2 > num1:\n",
    "        print(\"A ordem decrescente dos números escolhidos é: \", num3, num2, num1)"
   ]
  },
  {
   "cell_type": "markdown",
   "id": "451caa0f",
   "metadata": {},
   "source": [
    "# Exercicio 7"
   ]
  },
  {
   "cell_type": "code",
   "execution_count": 2,
   "id": "88ce3345",
   "metadata": {
    "ExecuteTime": {
     "end_time": "2025-05-17T16:02:53.315533Z",
     "start_time": "2025-05-17T16:02:47.216823Z"
    }
   },
   "outputs": [
    {
     "name": "stdout",
     "output_type": "stream",
     "text": [
      "Em qual turno você estuda? (digite M para matutino, V para vespertino e N para noturno)N\n",
      "Boa noite!\n"
     ]
    }
   ],
   "source": [
    "turno = str(input(\"Em qual turno você estuda? (digite M para matutino, V para vespertino e N para noturno)\"))\n",
    "\n",
    "if turno == \"V\" or turno == \"v\":\n",
    "    print(\"Boa tarde!\")\n",
    "elif turno == \"M\" or turno == \"m\":\n",
    "    print(\"Bom dia!\")\n",
    "elif turno == \"N\" or turno == \"n\":\n",
    "    print(\"Boa noite!\")\n",
    "else:\n",
    "    print(\"Valor invalido!\")"
   ]
  },
  {
   "cell_type": "markdown",
   "id": "591eabd5",
   "metadata": {},
   "source": [
    "# Exercicio 8"
   ]
  },
  {
   "cell_type": "code",
   "execution_count": 6,
   "id": "a0858758",
   "metadata": {
    "ExecuteTime": {
     "end_time": "2025-05-17T16:04:30.996758Z",
     "start_time": "2025-05-17T16:04:29.087712Z"
    }
   },
   "outputs": [
    {
     "name": "stdout",
     "output_type": "stream",
     "text": [
      "Qual é o seu salário?1830\n",
      "Seu salário anterior era: 1830.0 / O percentual de aumento do seu salário foi: 5% / O valor do aumento foi 91.5 / Seu novo salário após o reajuste é: 1921.5\n"
     ]
    }
   ],
   "source": [
    "salario = float(input(\"Qual é o seu salário?\"))\n",
    "\n",
    "if salario <= 280:\n",
    "    aumento = 20 / 100 * salario\n",
    "    reajuste = aumento + salario\n",
    "    print(\"Seu salário anterior era:\", salario, \"/ O percentual de aumento do seu salário foi: 20%\", \"/ O valor do aumento foi\", aumento, \"/ Seu novo salário após o reajuste é:\", reajuste)\n",
    "elif 280 < salario < 700:\n",
    "    aumento = 15 / 100 * salario\n",
    "    reajuste = aumento + salario\n",
    "    print(\"Seu salário anterior era:\", salario, \"/ O percentual de aumento do seu salário foi: 15%\", \"/ O valor do aumento foi\", aumento, \"/ Seu novo salário após o reajuste é:\", reajuste)\n",
    "elif 700 < salario < 1500:\n",
    "    aumento = 10 / 100 * salario\n",
    "    reajuste + aumento + salario\n",
    "    print(\"Seu salário anterior era:\", salario, \"/ O percentual de aumento do seu salário foi: 10%\", \"/ O valor do aumento foi\", aumento, \"/ Seu novo salário após o reajuste é:\", reajuste)\n",
    "else:\n",
    "    aumento = 5 / 100 * salario\n",
    "    reajuste = aumento + salario\n",
    "    print(\"Seu salário anterior era:\", salario, \"/ O percentual de aumento do seu salário foi: 5%\", \"/ O valor do aumento foi\", aumento, \"/ Seu novo salário após o reajuste é:\", reajuste)"
   ]
  },
  {
   "cell_type": "markdown",
   "id": "31dc2431",
   "metadata": {},
   "source": [
    "# Exercicio 9"
   ]
  },
  {
   "cell_type": "code",
   "execution_count": 1,
   "id": "7660118a",
   "metadata": {
    "ExecuteTime": {
     "end_time": "2025-05-19T00:18:19.240825Z",
     "start_time": "2025-05-19T00:18:16.057321Z"
    }
   },
   "outputs": [
    {
     "name": "stdout",
     "output_type": "stream",
     "text": [
      "Quanto vale a hora trabalhada do colaborador?9\n",
      "Salário Bruto: 1980.0 (-) IR 198.0 (-) INSS: 198.0 (-)SINDICATO: 59.4 FGTS: 217.8 Total de descontos: 455.4 Valor liquido: 1524.6\n"
     ]
    }
   ],
   "source": [
    "salario = float(input(\"Quanto vale a hora trabalhada do colaborador?\")) * 220\n",
    "\n",
    "if salario <= 900:\n",
    "    sindicato = (3/100 * salario)\n",
    "    fgts = 11 / 100 * salario\n",
    "    inss = 10 / 100 * salario\n",
    "    liquido = salario - sindicato - inss\n",
    "    print(\"Salário Bruto:\", salario, \"(-) INSS:\", inss,\"(-)SINDICATO:\", sindicato, \"FGTS:\", fgts, \"Total de descontos:\", sindicato + inss, \"Valor liquido:\", liquido)\n",
    "elif 901 < salario <= 1500:\n",
    "    sindicato = 3/100 * salario\n",
    "    fgts = 11/100 * salario\n",
    "    ir = 5/100 * salario\n",
    "    inss = 10/100 * salario\n",
    "    liquido = salario - sindicato - ir - inss\n",
    "    print(\"Salário Bruto:\", salario, \"(-) IR\", ir, \"(-) INSS:\", inss,\"(-)SINDICATO:\", sindicato, \"FGTS:\", fgts, \"Total de descontos:\", sindicato + inss + ir, \"Valor liquido:\", liquido)\n",
    "elif 1501 < salario <= 2500:\n",
    "    sindicato = 3/100 * salario\n",
    "    fgts = 11/100 * salario\n",
    "    ir = 10/100 * salario\n",
    "    inss = 10/100 * salario\n",
    "    liquido = salario - sindicato - ir - inss\n",
    "    print(\"Salário Bruto:\", salario, \"(-) IR\", ir, \"(-) INSS:\", inss,\"(-)SINDICATO:\", sindicato, \"FGTS:\", fgts, \"Total de descontos:\", sindicato + inss + ir, \"Valor liquido:\", liquido)\n",
    "else:\n",
    "    sindicato = 3/100 * salario\n",
    "    fgts = 11/100 * salario\n",
    "    ir = 20/100 * salario\n",
    "    inss = 10/100 * salario\n",
    "    liquido = salario - sindicato - ir - inss\n",
    "    print(\"Salário Bruto:\", salario, \"(-) IR\", ir, \"(-) INSS:\", inss,\"(-)SINDICATO:\", sindicato, \"FGTS:\", fgts, \"Total de descontos:\", sindicato + inss + ir, \"Valor liquido:\", liquido)"
   ]
  },
  {
   "cell_type": "markdown",
   "id": "c6845a5c",
   "metadata": {},
   "source": [
    "# Exercicio 10"
   ]
  },
  {
   "cell_type": "code",
   "execution_count": 7,
   "id": "510e3170",
   "metadata": {
    "ExecuteTime": {
     "end_time": "2025-05-19T00:29:41.246569Z",
     "start_time": "2025-05-19T00:29:38.898355Z"
    }
   },
   "outputs": [
    {
     "name": "stdout",
     "output_type": "stream",
     "text": [
      "Qual foi a nota do aluno no P1? 9\n",
      "Qual foi a nota do aluno no P2? 9\n",
      "Seu conceito é: A\n"
     ]
    }
   ],
   "source": [
    "nota1 = float(input(\"Qual foi a nota do aluno no P1? \"))\n",
    "nota2 = float(input(\"Qual foi a nota do aluno no P2? \"))\n",
    "\n",
    "media = (nota1 + nota2) / 2\n",
    "\n",
    "if 0 < media < 4:\n",
    "    print(\"Seu conceito é: E\")\n",
    "elif 4 <= media < 6:\n",
    "    print(\"Seu conceito é: D\")\n",
    "elif 6 <= media < 7.5:\n",
    "    print(\"Seu conceito é: C\")\n",
    "elif 7.5 <= media < 9:\n",
    "    print(\"Seu conceito é: B\")\n",
    "elif 9 <= media <= 10:\n",
    "    print(\"Seu conceito é: A\")"
   ]
  }
 ],
 "metadata": {
  "kernelspec": {
   "display_name": "Python 3 (ipykernel)",
   "language": "python",
   "name": "python3"
  },
  "language_info": {
   "codemirror_mode": {
    "name": "ipython",
    "version": 3
   },
   "file_extension": ".py",
   "mimetype": "text/x-python",
   "name": "python",
   "nbconvert_exporter": "python",
   "pygments_lexer": "ipython3",
   "version": "3.11.5"
  },
  "toc": {
   "base_numbering": 1,
   "nav_menu": {},
   "number_sections": true,
   "sideBar": true,
   "skip_h1_title": false,
   "title_cell": "Table of Contents",
   "title_sidebar": "Contents",
   "toc_cell": false,
   "toc_position": {},
   "toc_section_display": true,
   "toc_window_display": false
  },
  "varInspector": {
   "cols": {
    "lenName": 16,
    "lenType": 16,
    "lenVar": 40
   },
   "kernels_config": {
    "python": {
     "delete_cmd_postfix": "",
     "delete_cmd_prefix": "del ",
     "library": "var_list.py",
     "varRefreshCmd": "print(var_dic_list())"
    },
    "r": {
     "delete_cmd_postfix": ") ",
     "delete_cmd_prefix": "rm(",
     "library": "var_list.r",
     "varRefreshCmd": "cat(var_dic_list()) "
    }
   },
   "types_to_exclude": [
    "module",
    "function",
    "builtin_function_or_method",
    "instance",
    "_Feature"
   ],
   "window_display": false
  }
 },
 "nbformat": 4,
 "nbformat_minor": 5
}
