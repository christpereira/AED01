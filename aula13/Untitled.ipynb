{
 "cells": [
  {
   "cell_type": "markdown",
   "id": "847fd978-af0e-41bf-88b0-fb5ad76e32fa",
   "metadata": {},
   "source": [
    "### Crie um programa que recebe uma frase de entrada e a normaliza. A normalização deve transformar a\n",
    "### frase para minúsculas, remover os espaços em excesso e substituir os espaços restantes por\n",
    "### underscores (_)."
   ]
  },
  {
   "cell_type": "code",
   "execution_count": 6,
   "id": "bca38e91-962b-43ac-97cf-52eb0f38f5af",
   "metadata": {},
   "outputs": [
    {
     "name": "stdin",
     "output_type": "stream",
     "text": [
      "Escreva a frase:  As inscrições para o vestibular da FATEC Votorantim estão abertas\n"
     ]
    },
    {
     "name": "stdout",
     "output_type": "stream",
     "text": [
      "A frase normalizada fica:  as_inscrições_para_o_vestibular_da_fatec_votorantim_estão_abertas\n"
     ]
    }
   ],
   "source": [
    "frase_entrada = str(input(\"Escreva a frase: \"))\n",
    "\n",
    "frase_normal = frase_entrada.lower()\n",
    "print(\"A frase normalizada fica: \", frase_normal.replace(\" \", \"_\"))"
   ]
  },
  {
   "cell_type": "markdown",
   "id": "694a5c57-e65b-4d06-84be-0a5d76a9566b",
   "metadata": {},
   "source": [
    "### Dada uma lista pré-definida de vendas diárias, remova todas as vendas menores que R$ 100,00 e\n",
    "### calcule a média das vendas restantes."
   ]
  },
  {
   "cell_type": "code",
   "execution_count": 31,
   "id": "b73ebd07-7adf-4544-85b8-a33591ce481f",
   "metadata": {},
   "outputs": [
    {
     "name": "stdout",
     "output_type": "stream",
     "text": [
      "A média dos valores de vendas é: 206.67\n"
     ]
    }
   ],
   "source": [
    "from statistics import mean\n",
    "vendas = [120, 85, 300, 55, 200, 95]\n",
    "\n",
    "vendas_filtradas = [i for i in vendas if i >= 100]\n",
    "\n",
    "print(\"A média dos valores de vendas é: {:.2f}\".format(mean(vendas_filtradas)))"
   ]
  },
  {
   "cell_type": "markdown",
   "id": "d9ae1449-9bf5-43d3-8e17-e79bcd64cf99",
   "metadata": {},
   "source": [
    "### Crie um programa que recebe três coordenadas (x, y) como tuplas e calcula a distância média dos\n",
    "### pontos a partir da origem (0, 0). Use a fórmula da distância Euclidiana."
   ]
  },
  {
   "cell_type": "code",
   "execution_count": null,
   "id": "b4c81226-5c0c-499c-a3a8-b2f73a945043",
   "metadata": {},
   "outputs": [],
   "source": [
    "from math import sqrt\n",
    "\n",
    "def distancia_euclidiana(ponto):\n",
    "    x, y = ponto\n",
    "    return sqrt(x**2 + y**2)\n",
    "\n",
    "p1 = tuple(map(float, input(\"Digite as coordenadas do ponto 1 (x y): \").split()))\n",
    "p2 = tuple(map(float, input(\"Digite as coordenadas do ponto 2 (x y): \").split()))\n",
    "p3 = tuple(map(float, input(\"Digite as coordenadas do ponto 3 (x y): \").split()))\n",
    "\n",
    "d1 = distancia_euclidiana(p1)\n",
    "d2 = distancia_euclidiana(p2)\n",
    "d3 = distancia_euclidiana(p3)\n",
    "\n",
    "media = (d1 + d2 + d3) / 3\n",
    "\n",
    "print(f\"\\nDistância média até a origem: {media:.2f}\")"
   ]
  },
  {
   "cell_type": "markdown",
   "id": "a6061094-4a15-43dc-b93a-ecac35a8df97",
   "metadata": {},
   "source": [
    "### Crie um programa que recebe uma frase de entrada e conta a frequência de cada palavra. O\n",
    "### programa deve mostrar a contagem de cada palavra ao final."
   ]
  },
  {
   "cell_type": "code",
   "execution_count": 37,
   "id": "509688ca-0608-490c-98ca-103d8ae6147a",
   "metadata": {},
   "outputs": [
    {
     "name": "stdin",
     "output_type": "stream",
     "text": [
      "Digite uma frase:  a a a a fatec fatec fatec votorantim\n"
     ]
    },
    {
     "name": "stdout",
     "output_type": "stream",
     "text": [
      "\n",
      "Frequência de cada palavra:\n",
      "a: 4\n",
      "fatec: 3\n",
      "votorantim: 1\n"
     ]
    }
   ],
   "source": [
    "from collections import Counter\n",
    "\n",
    "frase = input(\"Digite uma frase: \")\n",
    "\n",
    "palavras = frase.lower().split()\n",
    "\n",
    "frequencia = Counter(palavras)\n",
    "\n",
    "print(\"\\nFrequência de cada palavra:\")\n",
    "for palavra, contagem in frequencia.items():\n",
    "    print(f\"{palavra}: {contagem}\")"
   ]
  }
 ],
 "metadata": {
  "kernelspec": {
   "display_name": "Python [conda env:base] *",
   "language": "python",
   "name": "conda-base-py"
  },
  "language_info": {
   "codemirror_mode": {
    "name": "ipython",
    "version": 3
   },
   "file_extension": ".py",
   "mimetype": "text/x-python",
   "name": "python",
   "nbconvert_exporter": "python",
   "pygments_lexer": "ipython3",
   "version": "3.12.7"
  }
 },
 "nbformat": 4,
 "nbformat_minor": 5
}
