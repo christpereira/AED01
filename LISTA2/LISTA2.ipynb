{
 "cells": [
  {
   "cell_type": "markdown",
   "id": "caad570f",
   "metadata": {},
   "source": [
    "# EXERCICIO 1"
   ]
  },
  {
   "cell_type": "code",
   "execution_count": 4,
   "id": "f5a35417",
   "metadata": {
    "ExecuteTime": {
     "end_time": "2025-05-26T00:23:36.605919Z",
     "start_time": "2025-05-26T00:23:35.635411Z"
    }
   },
   "outputs": [
    {
     "name": "stdout",
     "output_type": "stream",
     "text": [
      "Qual foi a nota?8\n",
      "NOTA: 8\n"
     ]
    }
   ],
   "source": [
    "nota = int(input(\"Qual foi a nota?\"))\n",
    "\n",
    "while nota > 10 or nota < 0:\n",
    "    print(\"Valor inválido. Tente novamente!\")\n",
    "    nota = int(input(\"Qual foi a nota?\"))\n",
    "print(\"NOTA:\", nota)"
   ]
  },
  {
   "cell_type": "markdown",
   "id": "07e86f1d",
   "metadata": {},
   "source": [
    "# EXERCICIO 2"
   ]
  },
  {
   "cell_type": "code",
   "execution_count": 8,
   "id": "4e07ae92",
   "metadata": {
    "ExecuteTime": {
     "end_time": "2025-05-26T00:29:45.429281Z",
     "start_time": "2025-05-26T00:29:41.807537Z"
    }
   },
   "outputs": [
    {
     "name": "stdout",
     "output_type": "stream",
     "text": [
      "Não tem login? Vamos fazer seu cadastro!\n",
      "Digite seu usuário:christian\n",
      "Digite sua senha:christian123\n",
      "Cadastro concluído!\n"
     ]
    }
   ],
   "source": [
    "print(\"Não tem login? Vamos fazer seu cadastro!\")\n",
    "\n",
    "nome = str(input(\"Digite seu usuário:\"))\n",
    "senha = str(input(\"Digite sua senha:\"))\n",
    "\n",
    "while senha == nome:\n",
    "    print(\"A senha não pode ser igual ao seu usuário. Tente novamente!\")\n",
    "    senha = str(input(\"Digite sua senha novamente:\"))\n",
    "    \n",
    "print(\"Cadastro concluído!\")"
   ]
  },
  {
   "cell_type": "markdown",
   "id": "9b45566d",
   "metadata": {},
   "source": [
    "# EXERCICIO 3"
   ]
  },
  {
   "cell_type": "code",
   "execution_count": 16,
   "id": "5bd684e1",
   "metadata": {
    "ExecuteTime": {
     "end_time": "2025-05-26T00:44:52.893892Z",
     "start_time": "2025-05-26T00:44:32.657464Z"
    }
   },
   "outputs": [
    {
     "name": "stdout",
     "output_type": "stream",
     "text": [
      "Digite seu nome:christian\n",
      "Qual é sua idade?18\n",
      "Qual é seu salário?1900\n",
      "Qual é seu sexo?m\n",
      "Qual é seu estado civíl?c\n",
      "Nome: christian \n",
      "Idade 18 \n",
      "Salário: 1900.0 \n",
      "Sexo: m \n",
      "Estado Civíl: c\n"
     ]
    }
   ],
   "source": [
    "nome = str(input(\"Digite seu nome:\"))\n",
    "while len(nome) < 3:\n",
    "    print(\"Nome com menos de 3 caracteres. Tente novamente\")\n",
    "    nome = str(input(\"Digite seu nome:\"))\n",
    "    \n",
    "idade = int(input(\"Qual é sua idade?\"))\n",
    "while idade > 150 or idade < 0:\n",
    "    print(\"Valor inválido para a idade. Tente novamente!\")\n",
    "    idade = int(input(\"Qual é sua idade?\"))\n",
    "    \n",
    "salario = float(input(\"Qual é seu salário?\"))\n",
    "while salario <= 0:\n",
    "    print(\"Valor inválido para salário. Tente novamente!\")\n",
    "    salario = float(input(\"Qual é seu salário?\"))\n",
    "    \n",
    "sexo = str(input(\"Qual é seu sexo?\"))\n",
    "while sexo != \"f\" and sexo != \"m\":\n",
    "    print(\"Valor inválido para sexo. Tente novamente!\")\n",
    "    sexo = str(input(\"Qual é seu sexo?\"))\n",
    "    \n",
    "estado = str(input(\"Qual é seu estado civíl?\"))\n",
    "while estado != \"c\" and estado != \"s\" and estado != \"d\" and estado != \"v\":\n",
    "    print(\"Valor inválido para estado civíl. Tente novamente!\")\n",
    "    estado = str(input(\"Qual é seu estado civíl?\"))\n",
    "\n",
    "print(\"Nome:\", nome, \"\\nIdade\", idade, \"\\nSalário:\", salario, \"\\nSexo:\", sexo, \"\\nEstado Civíl:\", estado)"
   ]
  },
  {
   "cell_type": "markdown",
   "id": "47c970d1",
   "metadata": {},
   "source": [
    "# EXERCICIO 4"
   ]
  },
  {
   "cell_type": "code",
   "execution_count": 17,
   "id": "ea4bbcaa",
   "metadata": {
    "ExecuteTime": {
     "end_time": "2025-05-26T00:50:23.631710Z",
     "start_time": "2025-05-26T00:50:23.626752Z"
    }
   },
   "outputs": [
    {
     "name": "stdout",
     "output_type": "stream",
     "text": [
      "Foram necessários 63 anos para que o país A ultrapassasse o país B\n"
     ]
    }
   ],
   "source": [
    "anos = 0\n",
    "paisa = 80000\n",
    "paisb = 200000\n",
    "\n",
    "while paisa < paisb:\n",
    "    paisa += (paisa *  0.03)\n",
    "    paisb += (paisb * 0.015)\n",
    "    anos += 1\n",
    "    \n",
    "print(\"Foram necessários\", anos, \"anos para que o país A ultrapassasse o país B\")"
   ]
  },
  {
   "cell_type": "markdown",
   "id": "8187e8c5",
   "metadata": {},
   "source": [
    "# EXERCICIO 5"
   ]
  },
  {
   "cell_type": "code",
   "execution_count": 28,
   "id": "77e2cc70",
   "metadata": {
    "ExecuteTime": {
     "end_time": "2025-05-26T01:00:47.122763Z",
     "start_time": "2025-05-26T01:00:42.630226Z"
    }
   },
   "outputs": [
    {
     "name": "stdout",
     "output_type": "stream",
     "text": [
      "Informe um número:2\n",
      "Informe um número:525\n",
      "Informe um número:62\n",
      "Informe um número:57\n",
      "Informe um número:8\n",
      "A soma dos números escolhidos é: 654 a média dos números escolhidos é: 130.8\n"
     ]
    }
   ],
   "source": [
    "soma = 0\n",
    "for num in range(5):\n",
    "    numero = int(input(\"Informe um número:\"))\n",
    "    soma += numero\n",
    "    \n",
    "print(\"A soma dos números escolhidos é:\", soma, \"a média dos números escolhidos é:\", soma / 5)"
   ]
  },
  {
   "cell_type": "markdown",
   "id": "b55bf450",
   "metadata": {
    "ExecuteTime": {
     "end_time": "2025-06-01T22:03:46.570482Z",
     "start_time": "2025-06-01T22:03:46.567322Z"
    }
   },
   "source": [
    "# EXERCICIO 6"
   ]
  },
  {
   "cell_type": "code",
   "execution_count": 5,
   "id": "006c5083",
   "metadata": {
    "ExecuteTime": {
     "end_time": "2025-06-01T22:06:15.162134Z",
     "start_time": "2025-06-01T22:06:13.875183Z"
    }
   },
   "outputs": [
    {
     "name": "stdout",
     "output_type": "stream",
     "text": [
      "Informe um número:8\n",
      "8 X 0 = 0\n",
      "8 X 1 = 8\n",
      "8 X 2 = 16\n",
      "8 X 3 = 24\n",
      "8 X 4 = 32\n",
      "8 X 5 = 40\n",
      "8 X 6 = 48\n",
      "8 X 7 = 56\n",
      "8 X 8 = 64\n",
      "8 X 9 = 72\n",
      "8 X 10 = 80\n"
     ]
    }
   ],
   "source": [
    "num = int(input(\"Informe um número:\"))\n",
    "\n",
    "for i in range(11):\n",
    "    print(num, \"X\", i, \"=\", num*i)"
   ]
  },
  {
   "cell_type": "markdown",
   "id": "a1db4d47",
   "metadata": {},
   "source": [
    "# EXERCICIO 7"
   ]
  },
  {
   "cell_type": "code",
   "execution_count": 6,
   "id": "2678c3fa",
   "metadata": {
    "ExecuteTime": {
     "end_time": "2025-06-01T22:12:59.415659Z",
     "start_time": "2025-06-01T22:12:57.940066Z"
    }
   },
   "outputs": [
    {
     "name": "stdout",
     "output_type": "stream",
     "text": [
      "Digite quantos termos da série de Fibonacci você quer ver:7\n",
      "Série de Fibonacci:\n",
      "1 1 2 3 5 8 13 "
     ]
    }
   ],
   "source": [
    "n = int(input(\"Digite quantos termos da série de Fibonacci você quer ver:\"))\n",
    "\n",
    "a = 1\n",
    "b = 1\n",
    "\n",
    "print(\"Série de Fibonacci:\")\n",
    "print(a, end=\" \")\n",
    "\n",
    "for i in range(n - 1):\n",
    "    print(b, end=\" \")\n",
    "    a, b = b, a + b"
   ]
  },
  {
   "cell_type": "markdown",
   "id": "723d7646",
   "metadata": {},
   "source": [
    "# EXERCICIO 8"
   ]
  },
  {
   "cell_type": "code",
   "execution_count": 17,
   "id": "2e157799",
   "metadata": {
    "ExecuteTime": {
     "end_time": "2025-06-01T22:20:01.528174Z",
     "start_time": "2025-06-01T22:19:49.916382Z"
    }
   },
   "outputs": [
    {
     "name": "stdout",
     "output_type": "stream",
     "text": [
      "Informe as notas do estudante:20\n",
      "Informe as notas do estudante:20\n",
      "Informe as notas do estudante:20\n",
      "Informe as notas do estudante:20\n",
      "Informe as notas do estudante:20\n",
      "Informe as notas do estudante:-1\n",
      "A média de todas as notas do aluno é: 20.0\n"
     ]
    }
   ],
   "source": [
    "soma = 0\n",
    "media = 0\n",
    "\n",
    "while True:\n",
    "    nota = int(input(\"Informe as notas do estudante:\"))\n",
    "    if nota == -1:\n",
    "        break\n",
    "    soma += nota\n",
    "    media += 1\n",
    "    \n",
    "print(\"A média de todas as notas do aluno é:\", soma / media)  "
   ]
  },
  {
   "cell_type": "markdown",
   "id": "e172bf62",
   "metadata": {},
   "source": [
    "# EXERCICIO 9"
   ]
  },
  {
   "cell_type": "code",
   "execution_count": 35,
   "id": "6b633f7d",
   "metadata": {
    "ExecuteTime": {
     "end_time": "2025-06-01T22:32:24.244850Z",
     "start_time": "2025-06-01T22:32:24.240852Z"
    }
   },
   "outputs": [
    {
     "name": "stdout",
     "output_type": "stream",
     "text": [
      "1 - R$ 1.99\n",
      "2 - R$ 3.98\n",
      "3 - R$ 5.97\n",
      "4 - R$ 7.96\n",
      "5 - R$ 9.95\n",
      "6 - R$ 11.94\n",
      "7 - R$ 13.93\n",
      "8 - R$ 15.92\n",
      "9 - R$ 17.91\n",
      "10 - R$ 19.90\n",
      "11 - R$ 21.89\n",
      "12 - R$ 23.88\n",
      "13 - R$ 25.87\n",
      "14 - R$ 27.86\n",
      "15 - R$ 29.85\n",
      "16 - R$ 31.84\n",
      "17 - R$ 33.83\n",
      "18 - R$ 35.82\n",
      "19 - R$ 37.81\n",
      "20 - R$ 39.80\n",
      "21 - R$ 41.79\n",
      "22 - R$ 43.78\n",
      "23 - R$ 45.77\n",
      "24 - R$ 47.76\n",
      "25 - R$ 49.75\n",
      "26 - R$ 51.74\n",
      "27 - R$ 53.73\n",
      "28 - R$ 55.72\n",
      "29 - R$ 57.71\n",
      "30 - R$ 59.70\n",
      "31 - R$ 61.69\n",
      "32 - R$ 63.68\n",
      "33 - R$ 65.67\n",
      "34 - R$ 67.66\n",
      "35 - R$ 69.65\n",
      "36 - R$ 71.64\n",
      "37 - R$ 73.63\n",
      "38 - R$ 75.62\n",
      "39 - R$ 77.61\n",
      "40 - R$ 79.60\n",
      "41 - R$ 81.59\n",
      "42 - R$ 83.58\n",
      "43 - R$ 85.57\n",
      "44 - R$ 87.56\n",
      "45 - R$ 89.55\n",
      "46 - R$ 91.54\n",
      "47 - R$ 93.53\n",
      "48 - R$ 95.52\n",
      "49 - R$ 97.51\n",
      "50 - R$ 99.50\n"
     ]
    }
   ],
   "source": [
    "preco = 1.99\n",
    "\n",
    "for i in range(1, 51):\n",
    "    total = preco * i\n",
    "    print(f\"{i} - R$ {total:.2f}\")"
   ]
  },
  {
   "cell_type": "code",
   "execution_count": 32,
   "id": "42cb8e1a",
   "metadata": {
    "ExecuteTime": {
     "end_time": "2025-06-01T22:32:08.581646Z",
     "start_time": "2025-06-01T22:32:06.680068Z"
    }
   },
   "outputs": [
    {
     "name": "stdout",
     "output_type": "stream",
     "text": [
      "Quantos itens o cliente comprou?6\n",
      "1 - R$ 1.99\n",
      "2 - R$ 3.98\n",
      "3 - R$ 5.97\n",
      "4 - R$ 7.96\n",
      "5 - R$ 9.95\n",
      "6 - R$ 11.94\n"
     ]
    }
   ],
   "source": [
    "# fiz tambem uma outra alternativa, em que o caixa informa ao código quantos itens foram comprados\n",
    "\n",
    "qtd = int(input(\"Quantos itens o cliente comprou?\"))\n",
    "preco = 1.99\n",
    "\n",
    "for i in range(1, 51):\n",
    "    total = preco * i\n",
    "    print(f\"{i} - R$ {total:.2f}\")    \n",
    "    if qtd == i:\n",
    "        break"
   ]
  },
  {
   "cell_type": "markdown",
   "id": "7a10d121",
   "metadata": {},
   "source": [
    "# EXERCICIO 10"
   ]
  },
  {
   "cell_type": "code",
   "execution_count": 36,
   "id": "a4f97a1d",
   "metadata": {
    "ExecuteTime": {
     "end_time": "2025-06-01T22:35:42.759275Z",
     "start_time": "2025-06-01T22:35:27.063373Z"
    }
   },
   "outputs": [
    {
     "name": "stdout",
     "output_type": "stream",
     "text": [
      "Quantas temperaturas você vai digitar? 8\n",
      "Digite a 1ª temperatura: 23\n",
      "Digite a 2ª temperatura: 24\n",
      "Digite a 3ª temperatura: 32\n",
      "Digite a 4ª temperatura: 31\n",
      "Digite a 5ª temperatura: 29\n",
      "Digite a 6ª temperatura: 22\n",
      "Digite a 7ª temperatura: 27\n",
      "Digite a 8ª temperatura: 27\n",
      "\n",
      "--- Resultados ---\n",
      "Menor temperatura: 22.0\n",
      "Maior temperatura: 32.0\n",
      "Média das temperaturas: 26.88\n"
     ]
    }
   ],
   "source": [
    "quantidade = int(input(\"Quantas temperaturas você vai digitar? \"))\n",
    "\n",
    "soma = 0\n",
    "\n",
    "for i in range(quantidade):\n",
    "    temp = float(input(f\"Digite a {i + 1}ª temperatura: \"))\n",
    "\n",
    "    if i == 0:\n",
    "        menor = temp\n",
    "        maior = temp\n",
    "    else:\n",
    "        if temp < menor:\n",
    "            menor = temp\n",
    "        if temp > maior:\n",
    "            maior = temp\n",
    "\n",
    "    soma += temp\n",
    "\n",
    "media = soma / quantidade\n",
    "\n",
    "print(\"\\n--- Resultados ---\")\n",
    "print(\"Menor temperatura:\", menor)\n",
    "print(\"Maior temperatura:\", maior)\n",
    "print(\"Média das temperaturas:\", round(media, 2))"
   ]
  }
 ],
 "metadata": {
  "kernelspec": {
   "display_name": "Python 3 (ipykernel)",
   "language": "python",
   "name": "python3"
  },
  "language_info": {
   "codemirror_mode": {
    "name": "ipython",
    "version": 3
   },
   "file_extension": ".py",
   "mimetype": "text/x-python",
   "name": "python",
   "nbconvert_exporter": "python",
   "pygments_lexer": "ipython3",
   "version": "3.11.5"
  },
  "toc": {
   "base_numbering": 1,
   "nav_menu": {},
   "number_sections": true,
   "sideBar": true,
   "skip_h1_title": false,
   "title_cell": "Table of Contents",
   "title_sidebar": "Contents",
   "toc_cell": false,
   "toc_position": {},
   "toc_section_display": true,
   "toc_window_display": false
  },
  "varInspector": {
   "cols": {
    "lenName": 16,
    "lenType": 16,
    "lenVar": 40
   },
   "kernels_config": {
    "python": {
     "delete_cmd_postfix": "",
     "delete_cmd_prefix": "del ",
     "library": "var_list.py",
     "varRefreshCmd": "print(var_dic_list())"
    },
    "r": {
     "delete_cmd_postfix": ") ",
     "delete_cmd_prefix": "rm(",
     "library": "var_list.r",
     "varRefreshCmd": "cat(var_dic_list()) "
    }
   },
   "types_to_exclude": [
    "module",
    "function",
    "builtin_function_or_method",
    "instance",
    "_Feature"
   ],
   "window_display": false
  }
 },
 "nbformat": 4,
 "nbformat_minor": 5
}
