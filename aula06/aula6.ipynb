{
 "cells": [
  {
   "cell_type": "code",
   "execution_count": 7,
   "id": "8f18c2a6-bebf-46fe-9043-c40ff4612f01",
   "metadata": {},
   "outputs": [
    {
     "name": "stdin",
     "output_type": "stream",
     "text": [
      "Qual é a sua idade? 18\n"
     ]
    },
    {
     "name": "stdout",
     "output_type": "stream",
     "text": [
      "Parabens! Você já é maior de idade\n"
     ]
    }
   ],
   "source": [
    "idade = int(input(\"Qual é a sua idade?\"))\n",
    "if idade >= 18:\n",
    "    print(\"Parabens! Você já é maior de idade\")\n",
    "else:\n",
    "    print(\"Espere mais um pouco, logo você será maior de idade\")"
   ]
  },
  {
   "cell_type": "code",
   "execution_count": 11,
   "id": "14c53e03-48a9-425a-8c58-97fce80730e6",
   "metadata": {},
   "outputs": [
    {
     "name": "stdin",
     "output_type": "stream",
     "text": [
      "Digite a nota 1:  3\n",
      "Digite a nota 2:  9\n"
     ]
    },
    {
     "name": "stdout",
     "output_type": "stream",
     "text": [
      "Aprovado\n",
      "Sua média foi:  6.0\n"
     ]
    }
   ],
   "source": [
    "nota1 = float(input(\"Digite a nota 1: \"))\n",
    "nota2 = float(input(\"Digite a nota 2: \"))\n",
    "\n",
    "# calculando a media final\n",
    "\n",
    "media = (nota1 + nota2)/2\n",
    "if media >= 6:\n",
    "    print(\"Aprovado\")\n",
    "else:\n",
    "    print(\"Reprovado\")\n",
    "print(\"Sua média foi: \", media)"
   ]
  },
  {
   "cell_type": "code",
   "execution_count": 61,
   "id": "759dc79a-68e1-44f7-8d0a-491ac659e9f5",
   "metadata": {},
   "outputs": [
    {
     "name": "stdin",
     "output_type": "stream",
     "text": [
      "Digite o nome da fruta:  Maçã\n"
     ]
    },
    {
     "name": "stdout",
     "output_type": "stream",
     "text": [
      "O kg da maçã é 12,10\n"
     ]
    }
   ],
   "source": [
    "fruta = input(\"Digite o nome da fruta: \")\n",
    "if fruta == \"Banana\":\n",
    "    print(\"O kg da banana é 5,23\")\n",
    "elif fruta == \"Maçã\":\n",
    "    print(\"O kg da maçã é 12,10\")\n",
    "elif fruta == \"Cereja\":\n",
    "    print(\"O kg da cereja é 58,00\")\n",
    "else:\n",
    "    print(\"Perdão, não temos essa fruta\")"
   ]
  },
  {
   "cell_type": "code",
   "execution_count": 73,
   "id": "b108846f-f1d3-4838-b818-651575a8972f",
   "metadata": {},
   "outputs": [
    {
     "name": "stdin",
     "output_type": "stream",
     "text": [
      "Entre com um número:  3\n"
     ]
    },
    {
     "name": "stdout",
     "output_type": "stream",
     "text": [
      "3 é impar positivo!\n"
     ]
    }
   ],
   "source": [
    "n = int(input(\"Entre com um número: \"))\n",
    "if n > 0:\n",
    "    if (n % 2) == 0:\n",
    "        print(n, \"é par positivo!\")\n",
    "    else:\n",
    "        print(n, \"é impar positivo!\")\n",
    "else:\n",
    "    if (abs(n) % 2) == 0:\n",
    "        print(n, \"é par negativo!\")\n",
    "    else:\n",
    "        print(n, \"é impar negativo!\")"
   ]
  },
  {
   "cell_type": "code",
   "execution_count": null,
   "id": "2317e329-e4d4-4011-9f22-d5edd364bd08",
   "metadata": {},
   "outputs": [],
   "source": []
  }
 ],
 "metadata": {
  "kernelspec": {
   "display_name": "Python [conda env:base] *",
   "language": "python",
   "name": "conda-base-py"
  },
  "language_info": {
   "codemirror_mode": {
    "name": "ipython",
    "version": 3
   },
   "file_extension": ".py",
   "mimetype": "text/x-python",
   "name": "python",
   "nbconvert_exporter": "python",
   "pygments_lexer": "ipython3",
   "version": "3.12.7"
  }
 },
 "nbformat": 4,
 "nbformat_minor": 5
}
