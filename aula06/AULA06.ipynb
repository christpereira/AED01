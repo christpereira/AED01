{
 "cells": [
  {
   "cell_type": "markdown",
   "id": "b556c85f-12c6-4a90-b947-a41ec1a9054d",
   "metadata": {},
   "source": [
    "# COMANDOS DE ENTRADA E SAIDA"
   ]
  },
  {
   "cell_type": "code",
   "execution_count": 4,
   "id": "99db008b-6c0e-47d1-a82a-e33eb75d3457",
   "metadata": {},
   "outputs": [],
   "source": [
    "nome = 'Christian'\n",
    "idade = 18"
   ]
  },
  {
   "cell_type": "code",
   "execution_count": 10,
   "id": "76c95908-a4f7-4cc5-a90e-92750fb845e2",
   "metadata": {},
   "outputs": [
    {
     "name": "stdout",
     "output_type": "stream",
     "text": [
      "Christian tem 18 anos!\n"
     ]
    }
   ],
   "source": [
    "print(nome, 'tem', idade, 'anos!')"
   ]
  },
  {
   "cell_type": "code",
   "execution_count": 12,
   "id": "76acaead-d038-4e6e-a99a-92306e8ce65f",
   "metadata": {},
   "outputs": [
    {
     "name": "stdin",
     "output_type": "stream",
     "text": [
      "Escolha um número 18\n"
     ]
    }
   ],
   "source": [
    "numero = int(input('Escolha um número'))"
   ]
  },
  {
   "cell_type": "code",
   "execution_count": 14,
   "id": "153731bb-0067-4adf-a54b-d5d60a478415",
   "metadata": {},
   "outputs": [
    {
     "name": "stdin",
     "output_type": "stream",
     "text": [
      "Digite o lado maior:  25\n",
      "DIgite o lado menor:  10\n"
     ]
    },
    {
     "name": "stdout",
     "output_type": "stream",
     "text": [
      "A area do quadrilatero é:  250.0\n"
     ]
    }
   ],
   "source": [
    "lado1 = float(input(\"Digite o lado maior: \"))\n",
    "lado2 = float(input(\"DIgite o lado menor: \"))\n",
    "area = lado1 * lado2\n",
    "print(\"A area do quadrilatero é: \", area)"
   ]
  },
  {
   "cell_type": "code",
   "execution_count": 28,
   "id": "c410abee-16f6-4276-ad76-1bce69538985",
   "metadata": {},
   "outputs": [
    {
     "name": "stdin",
     "output_type": "stream",
     "text": [
      "Escolha um numero 23\n"
     ]
    },
    {
     "name": "stdout",
     "output_type": "stream",
     "text": [
      "Tente mais alto\n"
     ]
    },
    {
     "name": "stdin",
     "output_type": "stream",
     "text": [
      "Tente mais alto 24\n"
     ]
    }
   ],
   "source": [
    "numero = 67\n",
    "resposta = int(input(\"Escolha um numero\"))\n",
    "if resposta == numero:\n",
    "    print(\"Voce venceu\")\n",
    "if resposta > numero:\n",
    "    print(\"Tente mais baixo\")\n",
    "    int(input(\"Escolha um numero\"))\n",
    "if resposta < numero:\n",
    "    print(\"Tente mais alto\")\n",
    "    int(input(\"Tente mais alto\"))"
   ]
  },
  {
   "cell_type": "code",
   "execution_count": null,
   "id": "ef897a9a-37f9-4d53-bee1-3fdd80106531",
   "metadata": {},
   "outputs": [],
   "source": []
  }
 ],
 "metadata": {
  "kernelspec": {
   "display_name": "Python [conda env:base] *",
   "language": "python",
   "name": "conda-base-py"
  },
  "language_info": {
   "codemirror_mode": {
    "name": "ipython",
    "version": 3
   },
   "file_extension": ".py",
   "mimetype": "text/x-python",
   "name": "python",
   "nbconvert_exporter": "python",
   "pygments_lexer": "ipython3",
   "version": "3.12.7"
  }
 },
 "nbformat": 4,
 "nbformat_minor": 5
}
